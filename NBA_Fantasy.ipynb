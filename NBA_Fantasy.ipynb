{
 "cells": [
  {
   "cell_type": "markdown",
   "metadata": {},
   "source": [
    "# NBA Fantasy Points Optimisation - ANSH TANDON"
   ]
  },
  {
   "cell_type": "markdown",
   "metadata": {},
   "source": [
    "## Answering Luka's Data Science Question"
   ]
  },
  {
   "cell_type": "markdown",
   "metadata": {},
   "source": [
    "### Coming up with the question: Negotiation\n",
    "\n",
    "After speaking with Luka (and multiple renegotiations), we finally arrived on an interesting data science project about NBA Fantasy Optimisation due to his passion for basketball. He is an avid player of the fantasy game and wanted some insights on how he could take his team to the next level.\n",
    "\n",
    "From our initial text conversation, Luka posed the following question:\n",
    "*\"Does there exist a player archetype/playstyle that produces maximal fantasy points for a season in comparison to other archetypes/playstyles?\"*\n",
    "\n",
    "To figure out what it would take for Luka to be satisfied with his question, I had to figure out what the question actually meant. Hence I asked him the following:\n",
    "(1) *\"when you refer to archetype - do you mean position (e.g., PG, SG, C)?\"*\n",
    "(2) *\"what would it take for you to be satisfied with your question?\"*\n",
    "(3) *\"what are the sub-problems involved?\"*\n",
    "\n",
    "Luka informed me that by general archetypes he meant meant more along the lines of three-point specialists or traditional big men, etc. but also recognised that it may be difficult to figure out the definition for each playstyle. Thus, he said that it would be acceptable to stick to position.\n",
    "\n",
    "In regards to the final result he had in mind, Luka said that he'd be satisfied by this question if he got a good metric or visualisation that helps rank positions in terms of worth in fantasy basketball."
   ]
  },
  {
   "cell_type": "markdown",
   "metadata": {},
   "source": [
    "### First obstacle to jump before starting the analysis\n",
    "\n",
    "The initial hurdle that I had to overcome was understanding how the NBA Fantasy points scoring system actually works. It was all well and good having the metrics out in front of me in the dataset, but I needed to determine a weighting system to assign certain metrics with greater value than others. To do this I used the ESPN website and came up with the following system:\n",
    "\n",
    "Point = 1\n",
    "\n",
    "3PM = 1\n",
    "\n",
    "FGA = -1\n",
    "\n",
    "FGM = 2\n",
    "\n",
    "FTA = -1\n",
    "\n",
    "FTM = 1\n",
    "\n",
    "REB = 1\n",
    "\n",
    "AST = 2\n",
    "\n",
    "STL = 4\n",
    "\n",
    "BLK = 4\n",
    "\n",
    "TOV = -2"
   ]
  },
  {
   "cell_type": "markdown",
   "metadata": {},
   "source": [
    "### How can I figure out what an archetype actually is?\n",
    "\n",
    "I really wanted the project to satisfy Luka's curiousity so I took it on myself to try and come up with a way of analysing player archetypes. To do so, I had to first research what types of ones were out there. The two following websites helped me gauge an idea:\n",
    "\n",
    "(1) https://rotogrinders.com/pages/nba-defense-vs-archetype-overview-2703460\n",
    "\n",
    "(2) https://2kleague.nba.com/official-archetype-info/\n",
    "\n",
    "Now, once I came to an understanding as to the different archetypes players can come under, I had to figure out a quantifiable way of categorising them. For example, how do I know if Player X is a passer and not a sharpshooter.\n",
    "\n",
    "Anthropic's Claude LLM aided me here. I fed it with the metrics in my dataset to come up with different playstyles. After multiple iterations and tweaks, I came up with the following criteria: \n",
    "\n",
    "*Sharpshooter* - 3P% > 70%\n",
    "\n",
    "*Rebounder* - REB > 700\n",
    "\n",
    "*Passer* - AST > 400, TOV < 10\n",
    "\n",
    "*Defensive Specialist* - STL > 150, BLK > 100\n",
    "\n",
    "*Efficient Scorer* - FG% > 48%, 3P% > 40%\n",
    "\n",
    "*Stretch Big* - C or PF, 3P% > 35%, 3PA > 100\n",
    "\n",
    "*Paint Protector* - C or PF, BLK > 90, REB > 250\n",
    "\n",
    "*3 and D Wing* - G or F, 3P% > 35%, STL > 100\n",
    "\n",
    "*Swiss Army Knife* - AST > 200, REB > 200, STL > 80"
   ]
  },
  {
   "cell_type": "markdown",
   "metadata": {},
   "source": [
    "## Here goes with the analysis..."
   ]
  },
  {
   "cell_type": "markdown",
   "metadata": {},
   "source": [
    "### Load the dataset"
   ]
  },
  {
   "cell_type": "code",
   "execution_count": 11,
   "metadata": {},
   "outputs": [
    {
     "name": "stdout",
     "output_type": "stream",
     "text": [
      "                     PName POS Team  Age  GP   W   L     Min   PTS  FGM  ...  \\\n",
      "0             Jayson Tatum  SF  BOS   25  74  52  22  2732.2  2225  727  ...   \n",
      "1              Joel Embiid   C  PHI   29  66  43  23  2284.1  2183  728  ...   \n",
      "2              Luka Doncic  PG  DAL   24  66  33  33  2390.5  2138  719  ...   \n",
      "3  Shai Gilgeous-Alexander  PG  OKC   24  68  33  35  2416.0  2135  704  ...   \n",
      "4    Giannis Antetokounmpo  PF  MIL   28  63  47  16  2023.6  1959  707  ...   \n",
      "\n",
      "   REB  AST  TOV  STL  BLK   PF    FP  DD2  TD3  +/-  \n",
      "0  649  342  213   78   51  160  3691   31    1  470  \n",
      "1  670  274  226   66  112  205  3706   39    1  424  \n",
      "2  569  529  236   90   33  166  3747   36   10  128  \n",
      "3  329  371  192  112   65  192  3425    3    0  149  \n",
      "4  742  359  246   52   51  197  3451   46    6  341  \n",
      "\n",
      "[5 rows x 30 columns]\n"
     ]
    }
   ],
   "source": [
    "import pandas as pd\n",
    "\n",
    "# Load the dataset\n",
    "df = pd.read_csv('2023_nba_player_stats.csv')\n",
    "\n",
    "# Display the first few rows of the dataset\n",
    "print(df.head())"
   ]
  },
  {
   "cell_type": "code",
   "execution_count": 12,
   "metadata": {},
   "outputs": [
    {
     "name": "stdout",
     "output_type": "stream",
     "text": [
      "PName    0\n",
      "POS      5\n",
      "Team     0\n",
      "Age      0\n",
      "GP       0\n",
      "W        0\n",
      "L        0\n",
      "Min      0\n",
      "PTS      0\n",
      "FGM      0\n",
      "FGA      0\n",
      "FG%      0\n",
      "3PM      0\n",
      "3PA      0\n",
      "3P%      0\n",
      "FTM      0\n",
      "FTA      0\n",
      "FT%      0\n",
      "OREB     0\n",
      "DREB     0\n",
      "REB      0\n",
      "AST      0\n",
      "TOV      0\n",
      "STL      0\n",
      "BLK      0\n",
      "PF       0\n",
      "FP       0\n",
      "DD2      0\n",
      "TD3      0\n",
      "+/-      0\n",
      "dtype: int64\n",
      "              Age          GP           W           L          Min  \\\n",
      "count  539.000000  539.000000  539.000000  539.000000   539.000000   \n",
      "mean    25.970315   48.040816   24.018553   24.022263  1103.617625   \n",
      "std      4.315513   24.650686   14.496366   13.445866   827.765114   \n",
      "min     19.000000    1.000000    0.000000    0.000000     1.000000   \n",
      "25%     23.000000   30.500000   12.000000   14.000000   329.000000   \n",
      "50%     25.000000   54.000000   25.000000   25.000000   970.200000   \n",
      "75%     29.000000   68.000000   36.000000   34.000000  1845.900000   \n",
      "max     42.000000   83.000000   57.000000   60.000000  2963.200000   \n",
      "\n",
      "               PTS         FGM          FGA         FG%         3PM  ...  \\\n",
      "count   539.000000  539.000000   539.000000  539.000000  539.000000  ...   \n",
      "mean    523.426716  191.576994   403.005566   46.325232   56.324675  ...   \n",
      "std     498.084360  178.351286   369.595909   10.967271   60.916821  ...   \n",
      "min       0.000000    0.000000     0.000000    0.000000    0.000000  ...   \n",
      "25%     120.500000   45.500000    93.500000   41.650000    5.000000  ...   \n",
      "50%     374.000000  138.000000   300.000000   45.500000   36.000000  ...   \n",
      "75%     769.500000  283.500000   598.500000   50.600000   92.000000  ...   \n",
      "max    2225.000000  728.000000  1559.000000  100.000000  301.000000  ...   \n",
      "\n",
      "              REB         AST         TOV         STL         BLK          PF  \\\n",
      "count  539.000000  539.000000  539.000000  539.000000  539.000000  539.000000   \n",
      "mean   198.254174  115.545455   61.300557   33.270872   21.241187   91.181818   \n",
      "std    181.819962  129.578453   58.279185   28.336745   26.529238   66.206731   \n",
      "min      0.000000    0.000000    0.000000    0.000000    0.000000    0.000000   \n",
      "25%     50.500000   22.000000   14.500000    8.500000    5.000000   32.000000   \n",
      "50%    159.000000   69.000000   44.000000   28.000000   13.000000   86.000000   \n",
      "75%    286.000000  162.500000   92.500000   51.000000   28.000000  140.000000   \n",
      "max    973.000000  741.000000  300.000000  128.000000  193.000000  279.000000   \n",
      "\n",
      "                FP         DD2         TD3         +/-  \n",
      "count   539.000000  539.000000  539.000000  539.000000  \n",
      "mean   1036.938776    4.011132    0.220779    0.000000  \n",
      "std     894.081896    8.770932    1.564432  148.223909  \n",
      "min      -1.000000    0.000000    0.000000 -642.000000  \n",
      "25%     254.000000    0.000000    0.000000  -70.000000  \n",
      "50%     810.000000    0.000000    0.000000   -7.000000  \n",
      "75%    1646.000000    3.000000    0.000000   57.000000  \n",
      "max    3842.000000   65.000000   29.000000  640.000000  \n",
      "\n",
      "[8 rows x 27 columns]\n"
     ]
    }
   ],
   "source": [
    "# Check for missing values\n",
    "print(df.isnull().sum())\n",
    "\n",
    "# Summary statistics\n",
    "print(df.describe())"
   ]
  },
  {
   "cell_type": "markdown",
   "metadata": {},
   "source": [
    "### Calculating Fantasy Points"
   ]
  },
  {
   "cell_type": "code",
   "execution_count": 13,
   "metadata": {},
   "outputs": [],
   "source": [
    "# Define the fantasy scoring system based on the ESPN source\n",
    "fantasy_points = (\n",
    "    df['PTS'] + df['3PM'] + 2 * df['FGM'] - df['FGA'] - df['FTA'] +\n",
    "    df['FTM'] + df['REB'] + 2 * df['AST'] + 4 * df['STL'] +\n",
    "    4 * df['BLK'] - 2 * df['TOV']\n",
    ")\n",
    "\n",
    "# Add the fantasy points column to the dataframe\n",
    "df['FP'] = fantasy_points"
   ]
  },
  {
   "cell_type": "markdown",
   "metadata": {},
   "source": [
    "Now, the dataframe df contains a new column 'FP' representing the fantasy points for each player."
   ]
  },
  {
   "cell_type": "markdown",
   "metadata": {},
   "source": [
    "### Analyse Positions"
   ]
  },
  {
   "cell_type": "code",
   "execution_count": 14,
   "metadata": {},
   "outputs": [],
   "source": [
    "import matplotlib.pyplot as plt\n",
    "\n",
    "# Group by position and calculate the average fantasy points\n",
    "average_fp_by_position = df.groupby('POS')['FP'].mean().sort_values(ascending=False)"
   ]
  },
  {
   "cell_type": "markdown",
   "metadata": {},
   "source": [
    "### Plotting the Graph"
   ]
  },
  {
   "cell_type": "code",
   "execution_count": 15,
   "metadata": {},
   "outputs": [
    {
     "data": {
      "image/png": "[encoded data removed]",
      "text/plain": [
       "<Figure size 720x432 with 1 Axes>"
      ]
     },
     "metadata": {
      "needs_background": "light"
     },
     "output_type": "display_data"
    }
   ],
   "source": [
    "# Plot the results for average fantasy points by position\n",
    "plt.figure(figsize=(10, 6))\n",
    "average_fp_by_position.plot(kind='bar', color='skyblue')\n",
    "plt.title('Average Fantasy Points by Position')\n",
    "plt.xlabel('Position')\n",
    "plt.ylabel('Average Fantasy Points')\n",
    "plt.show()"
   ]
  },
  {
   "cell_type": "markdown",
   "metadata": {},
   "source": [
    "### Determine the position with the most fantasy points"
   ]
  },
  {
   "cell_type": "code",
   "execution_count": 16,
   "metadata": {},
   "outputs": [
    {
     "name": "stdout",
     "output_type": "stream",
     "text": [
      "The player position that resulted in the most fantasy points for the season is: PG\n"
     ]
    }
   ],
   "source": [
    "max_position = average_fp_by_position.idxmax()\n",
    "print(f'The player position that resulted in the most fantasy points for the season is: {max_position}')"
   ]
  },
  {
   "cell_type": "markdown",
   "metadata": {},
   "source": [
    "### Categorising players into archetypes"
   ]
  },
  {
   "cell_type": "code",
   "execution_count": 17,
   "metadata": {},
   "outputs": [],
   "source": [
    "# Function to categorise players based on archetypes\n",
    "def categorize_player(row):\n",
    "    if row['3P%'] > 70:\n",
    "        return 'Sharpshooter'\n",
    "    elif row['REB'] > 700:\n",
    "        return 'Rebounder'\n",
    "    elif row['AST'] > 400 and row['TOV'] < 10:\n",
    "        return 'Passer'\n",
    "    elif row['STL'] > 150 and row['BLK'] > 100:\n",
    "        return 'Defensive Specialist'\n",
    "    elif row['FG%'] > 48 and row['3P%'] > 40:\n",
    "        return 'Efficient Scorer'\n",
    "    elif (row['POS'] in ['C', 'PF']) and row['3P%'] > 35 and row['3PA'] > 100:\n",
    "        return 'Stretch Big'\n",
    "    elif (row['POS'] in ['C', 'PF']) and row['BLK'] > 90 and row['REB'] > 250:\n",
    "        return 'Paint Protector'\n",
    "    elif (row['POS'] in ['G', 'F']) and row['3P%'] > 35 and row['STL'] > 100:\n",
    "        return '3 and D Wing'\n",
    "    elif row['AST'] > 200 and row['REB'] > 200 and row['STL'] > 80:\n",
    "        return 'Swiss Army Knife'\n",
    "    else:\n",
    "        return 'Other'\n",
    "\n",
    "# Apply the function to create a new column 'Archetype'\n",
    "df['Archetype'] = df.apply(categorize_player, axis=1)"
   ]
  },
  {
   "cell_type": "markdown",
   "metadata": {},
   "source": [
    "### Archetype Analysis"
   ]
  },
  {
   "cell_type": "code",
   "execution_count": 18,
   "metadata": {},
   "outputs": [
    {
     "data": {
      "image/png": "[encoded data removed]",
      "text/plain": [
       "<Figure size 864x432 with 1 Axes>"
      ]
     },
     "metadata": {
      "needs_background": "light"
     },
     "output_type": "display_data"
    }
   ],
   "source": [
    "# Group by archetype and calculate the average fantasy points\n",
    "average_fp_by_archetype = df.groupby('Archetype')['FP'].mean().sort_values(ascending=False)\n",
    "\n",
    "# Plot the results for average fantasy points by archetype\n",
    "plt.figure(figsize=(12, 6))\n",
    "average_fp_by_archetype.plot(kind='bar', color='lightgreen')\n",
    "plt.title('Average Fantasy Points by Archetype')\n",
    "plt.xlabel('Archetype')\n",
    "plt.ylabel('Average Fantasy Points')\n",
    "plt.show()"
   ]
  },
  {
   "cell_type": "markdown",
   "metadata": {},
   "source": [
    "### Determine the archetypes with the most fantasy points"
   ]
  },
  {
   "cell_type": "code",
   "execution_count": 19,
   "metadata": {},
   "outputs": [
    {
     "name": "stdout",
     "output_type": "stream",
     "text": [
      "The top three archetypes that resulted in the most fantasy points for the season are: Rebounder, Swiss Army Knife, 3 and D Wing\n"
     ]
    }
   ],
   "source": [
    "top_three_archetypes = average_fp_by_archetype.nlargest(3).index\n",
    "print(f'The top three archetypes that resulted in the most fantasy points for the season are: {\", \".join(top_three_archetypes)}')"
   ]
  },
  {
   "cell_type": "markdown",
   "metadata": {},
   "source": [
    "## Answering the intial question"
   ]
  },
  {
   "cell_type": "markdown",
   "metadata": {},
   "source": [
    "The analysis reveals interesting insights into fantasy basketball performance for the 2023 season.\n",
    "\n",
    "### Top Position: \n",
    "\n",
    "The player position that resulted in the most fantasy points for the season is *Point Guard* (PG). PGs demonstrated a consistent ability to contribute across various statistical categories, leading to higher fantasy point production compared to other positions.\n",
    "\n",
    "### Top Three Archetypes:\n",
    "\n",
    "*Rebounder*: Players classified as Rebounders excelled in accumulating rebounds, with an emphasis on both offensive and defensive boards. This archetype showcased a strong presence in the paint and contributed significantly to fantasy points through rebounding.\n",
    "\n",
    "*Swiss Army Knife*: The Swiss Army Knife archetype demonstrated versatility on the court, contributing not only in scoring but also in rebounding, assists, and steals. Players fitting this archetype displayed an all-around skill set, making them valuable assets for fantasy basketball teams.\n",
    "\n",
    "*3 and D Wing*: The 3 and D Wing archetype, consisting of guards or forwards with a focus on three-point shooting and defensive contributions, proved to be highly effective. These players demonstrated proficiency in both long-range shooting and defensive skills, resulting in a well-rounded fantasy performance."
   ]
  },
  {
   "cell_type": "markdown",
   "metadata": {},
   "source": [
    "## Why did we obtain these results?"
   ]
  },
  {
   "cell_type": "markdown",
   "metadata": {},
   "source": [
    "PG Dominance: Point Guards are often the primary playmakers on the court, contributing significantly to points, assists, and steals. Their involvement in various facets of the game makes them a valuable fantasy asset.\n",
    "\n",
    "Rebounder Impact: The Rebounder archetype, with an emphasis on rebounding, likely includes dominant big men who contribute not only in scoring but also in securing possessions through effective rebounding. This archetype's success can be attributed to their ability to control the boards.\n",
    "\n",
    "Versatility of Swiss Army Knife: The Swiss Army Knife archetype's success is rooted in the versatility of players who can impact multiple statistical categories. Players fitting this archetype can fill various roles on the court, making them valuable contributors in fantasy basketball.\n",
    "\n",
    "3 and D Wing's All-Around Skills: The 3 and D Wing archetype combines essential skills of three-point shooting and defensive prowess. Players in this category contribute to scoring while also making valuable defensive plays, resulting in a balanced and impactful fantasy performance.\n",
    "\n",
    "In summary, the top-performing position and archetypes showcase the importance of a well-rounded skill set, including scoring, playmaking, rebounding, and defensive contributions, in achieving success in fantasy basketball. The results highlight the significance of player roles and playing styles in fantasy point production."
   ]
  },
  {
   "cell_type": "markdown",
   "metadata": {},
   "source": [
    "## Why did the other archetypes not accumulate as many fantasy points?"
   ]
  },
  {
   "cell_type": "markdown",
   "metadata": {},
   "source": [
    "The performance disparity among the archetypes can be attributed to the specific criteria defining each playstyle and the inherent challenges associated with meeting those criteria consistently throughout the season.\n",
    "\n",
    "Sharpshooter (3P% > 70%): Achieving a three-point shooting percentage consistently above 70% is an extraordinary feat and may be difficult for players to maintain over the course of an entire season. The limited number of players meeting this exceptional criterion could result in fewer fantasy points.\n",
    "\n",
    "Passer (AST > 400, TOV < 10): Players falling under the Passer archetype need to accumulate a substantial number of assists (AST) while minimising turnovers (TOV). Meeting both criteria consistently requires a delicate balance and might be challenging for players, affecting their overall fantasy point production.\n",
    "\n",
    "Defensive Specialist (STL > 150, BLK > 100): The Defensive Specialist archetype demands both high steal (STL) and block (BLK) numbers. While some players excel in one defensive aspect, maintaining high counts in both categories can be challenging. Limited players meeting both criteria might result in lower representation and fantasy points.\n",
    "\n",
    "Efficient Scorer (FG% > 48%, 3P% > 40%): This archetype necessitates a high field goal percentage (FG%) and three-point percentage (3P%). Consistently achieving both efficient scoring metrics may be challenging for players, impacting their overall fantasy point contribution.\n",
    "\n",
    "Stretch Big (C or PF, 3P% > 35%, 3PA > 100): Centers (C) or power forwards (PF) fitting the Stretch Big archetype must excel in three-point shooting with a minimum number of attempts. Limited players meeting these criteria may result in fewer fantasy points compared to archetypes with broader applicability.\n",
    "\n",
    "Paint Protector (C or PF, BLK > 90, REB > 250): Similar to Stretch Big, the Paint Protector archetype demands specific criteria for centers and power forwards, including high block numbers and rebound counts. Fewer players meeting these stringent conditions could lead to lower fantasy point production.\n",
    "\n",
    "While the top-performing archetypes like Rebounder, Swiss Army Knife, and 3 and D Wing demonstrated versatility and consistency across multiple criteria, the other archetypes presented challenges in meeting specific and often demanding conditions, limiting their representation and subsequent fantasy point accumulation."
   ]
  },
  {
   "cell_type": "markdown",
   "metadata": {},
   "source": [
    "## Reflection on use of LLMs"
   ]
  },
  {
   "cell_type": "markdown",
   "metadata": {},
   "source": [
    "In this data science project, LLMs (specifically Claude and GPT 4) was used to as an aid rather than a go-to. For example, I used the LLMs to help me figure out weights for the metrics involved in player archetypes. However, thorough inspection of the outputs were required because there were nuances in the answers that the LLMs did not fully comprehend. One scenario was figuring out the 3 point percentage for a sharpshooter. I had to manually override the LLM response and set the 3P% > 70 because otherwise it would be too low - thus making a lot of players sharpshooters."
   ]
  },
  {
   "cell_type": "markdown",
   "metadata": {},
   "source": [
    "At the start of the semester, I tended to view LLM response as *'correct'*, giving their responses more weight than they deserved, without thoroughly evaluating or questioning them. I've since learned not to do that. I now approach LLMs with increased confidence when brainstorming ideas and initiating projects, making sure to rigourously understand the logic before executing code."
   ]
  },
  {
   "cell_type": "code",
   "execution_count": 20,
   "metadata": {},
   "outputs": [
    {
     "name": "stdout",
     "output_type": "stream",
     "text": [
      "[NbConvertApp] Converting notebook /Users/anshtandon/Desktop/NBA_Fantasy.ipynb to html\n",
      "[NbConvertApp] Writing 348546 bytes to /Users/anshtandon/Desktop/NBA_Fantasy.html\n"
     ]
    }
   ],
   "source": [
    "!jupyter nbconvert --to html \"/Users/anshtandon/Desktop/NBA_Fantasy.ipynb\""
   ]
  }
 ],
 "metadata": {
  "kernelspec": {
   "display_name": "Python 3",
   "language": "python",
   "name": "python3"
  },
  "language_info": {
   "codemirror_mode": {
    "name": "ipython",
    "version": 3
   },
   "file_extension": ".py",
   "mimetype": "text/x-python",
   "name": "python",
   "nbconvert_exporter": "python",
   "pygments_lexer": "ipython3",
   "version": "3.8.2"
  },
  "orig_nbformat": 4
 },
 "nbformat": 4,
 "nbformat_minor": 2
}
